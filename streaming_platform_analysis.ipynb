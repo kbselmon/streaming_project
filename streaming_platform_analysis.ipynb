{
  "nbformat": 4,
  "nbformat_minor": 0,
  "metadata": {
    "colab": {
      "name": "streaming_platform_analysis.ipynb",
      "provenance": [],
      "collapsed_sections": [],
      "toc_visible": true
    },
    "kernelspec": {
      "name": "python3",
      "display_name": "Python 3"
    }
  },
  "cells": [
    {
      "cell_type": "markdown",
      "metadata": {
        "id": "YY5-eJcerWpX"
      },
      "source": [
        "<font size=\"5\">Streaming Platform Data Dive & Analysis</font>"
      ]
    },
    {
      "cell_type": "markdown",
      "metadata": {
        "id": "xE0tUUPLmEoe"
      },
      "source": [
        "The purpose of this notebook is to synthesize, visualize, and analyze data about popular streaming service platforms. The data used is a combination of a scraped dataset from ReelGood (read in via csv from GitHub, access repository [here](https://github.com/romicofre/collection-of-movies-etl/blob/master/MoviesOnStreamingPlatforms_updated.csv)) and a scraped dataset from Business of Apps (scraped in code below, access web page [here](https://www.businessofapps.com/data/video-streaming-app-market/).) "
      ]
    },
    {
      "cell_type": "markdown",
      "metadata": {
        "id": "_W3vixpKRf-F"
      },
      "source": [
        "# Import Dependencies and CSV file\n",
        "\n"
      ]
    },
    {
      "cell_type": "code",
      "metadata": {
        "id": "jYqOBy7Pi0aL",
        "cellView": "form"
      },
      "source": [
        "#@title Import Dependencies\n",
        "#import dependencies at the top\n",
        "import requests\n",
        "from bs4 import BeautifulSoup\n",
        "import numpy as np\n",
        "import pandas as pd\n",
        "from scipy import stats\n",
        "from time import time\n",
        "from time import sleep\n",
        "from random import randint\n",
        "from bs4 import BeautifulSoup\n",
        "import statistics\n",
        "import math\n",
        "import matplotlib.pyplot as plt\n",
        "import seaborn as sns\n",
        "%matplotlib inline"
      ],
      "execution_count": null,
      "outputs": []
    },
    {
      "cell_type": "code",
      "metadata": {
        "id": "5qcAX4s6p6bm",
        "cellView": "form"
      },
      "source": [
        "#@title Set Color Palette\n",
        "#set color palette\n",
        "sns.set_palette(palette=\"GnBu_r\")"
      ],
      "execution_count": null,
      "outputs": []
    },
    {
      "cell_type": "code",
      "metadata": {
        "id": "WdP8HbIdmbGf"
      },
      "source": [
        "#@title Read in ReelGood Dataset from raw csv file on Github\n",
        "#read in svod dataset from csv\n",
        "svod_url = 'https://raw.githubusercontent.com/romicofre/collection-of-movies-etl/master/MoviesOnStreamingPlatforms_updated.csv'\n",
        "\n",
        "svod_df = pd.read_csv(svod_url)"
      ],
      "execution_count": null,
      "outputs": []
    },
    {
      "cell_type": "markdown",
      "metadata": {
        "id": "JV5YirruR3j6"
      },
      "source": [
        "# Inspect and Clean Datasets\n"
      ]
    },
    {
      "cell_type": "markdown",
      "metadata": {
        "id": "gf6JDNSBjYhj"
      },
      "source": [
        "First let's define a function to automate inspecting dataframes. We will call this function ``` explore_df() ``` - it takes the input parameter ``` df ```, which is the dataframe you want to inspect for shape, column names, info, and the first 5 rows."
      ]
    },
    {
      "cell_type": "code",
      "metadata": {
        "id": "AAxi0_mBjOkO",
        "cellView": "form"
      },
      "source": [
        "#@title Define a function, explore_df(), to inspect dataframes\n",
        "#define a function to describe dataframes\n",
        "def explore_df(df):\n",
        "  dfname =[x for x in globals() if globals()[x] is df][0]\n",
        "  print(\"Dataframe: %s\" % dfname)\n",
        "  print('The shape of this DataFrame is {}'.format(df.shape))\n",
        "  print('The columns in this DataFrame are {}'.format(df.columns))\n",
        "  print('The info:')\n",
        "  print(df.info())\n",
        "  print('The first 5 rows in this DataFrame are {}'.format(df.head()))\n",
        "  print('\\n')"
      ],
      "execution_count": null,
      "outputs": []
    },
    {
      "cell_type": "markdown",
      "metadata": {
        "id": "d7F-zw6LmoP1"
      },
      "source": [
        "## ReelGood Dataset from CSV File"
      ]
    },
    {
      "cell_type": "code",
      "metadata": {
        "id": "VP9w9hQC-T5O",
        "colab": {
          "base_uri": "https://localhost:8080/"
        },
        "cellView": "form",
        "outputId": "f9b960db-21b4-4682-a9c0-565e900ceb67"
      },
      "source": [
        "#@title Explore svod_df with newly defined explore_df function\n",
        "#explore svod df with newly defined explore_df function\n",
        "explore_df(svod_df)\n",
        "print(svod_df.count)"
      ],
      "execution_count": null,
      "outputs": [
        {
          "output_type": "stream",
          "text": [
            "Dataframe: svod_df\n",
            "The shape of this DataFrame is (16744, 17)\n",
            "The columns in this DataFrame are Index(['Unnamed: 0', 'ID', 'Title', 'Year', 'Age', 'IMDb', 'Rotten Tomatoes',\n",
            "       'Netflix', 'Hulu', 'Prime Video', 'Disney+', 'Type', 'Directors',\n",
            "       'Genres', 'Country', 'Language', 'Runtime'],\n",
            "      dtype='object')\n",
            "The info:\n",
            "<class 'pandas.core.frame.DataFrame'>\n",
            "RangeIndex: 16744 entries, 0 to 16743\n",
            "Data columns (total 17 columns):\n",
            " #   Column           Non-Null Count  Dtype  \n",
            "---  ------           --------------  -----  \n",
            " 0   Unnamed: 0       16744 non-null  int64  \n",
            " 1   ID               16744 non-null  int64  \n",
            " 2   Title            16744 non-null  object \n",
            " 3   Year             16744 non-null  int64  \n",
            " 4   Age              7354 non-null   object \n",
            " 5   IMDb             16173 non-null  float64\n",
            " 6   Rotten Tomatoes  5158 non-null   object \n",
            " 7   Netflix          16744 non-null  int64  \n",
            " 8   Hulu             16744 non-null  int64  \n",
            " 9   Prime Video      16744 non-null  int64  \n",
            " 10  Disney+          16744 non-null  int64  \n",
            " 11  Type             16744 non-null  int64  \n",
            " 12  Directors        16018 non-null  object \n",
            " 13  Genres           16469 non-null  object \n",
            " 14  Country          16309 non-null  object \n",
            " 15  Language         16145 non-null  object \n",
            " 16  Runtime          16152 non-null  float64\n",
            "dtypes: float64(2), int64(8), object(7)\n",
            "memory usage: 2.2+ MB\n",
            "None\n",
            "The first 5 rows in this DataFrame are    Unnamed: 0  ID  ...                 Language  Runtime\n",
            "0           0   1  ...  English,Japanese,French    148.0\n",
            "1           1   2  ...                  English    136.0\n",
            "2           2   3  ...                  English    149.0\n",
            "3           3   4  ...                  English    116.0\n",
            "4           4   5  ...                  Italian    161.0\n",
            "\n",
            "[5 rows x 17 columns]\n",
            "\n",
            "\n",
            "<bound method DataFrame.count of        Unnamed: 0     ID  ...                 Language  Runtime\n",
            "0               0      1  ...  English,Japanese,French    148.0\n",
            "1               1      2  ...                  English    136.0\n",
            "2               2      3  ...                  English    149.0\n",
            "3               3      4  ...                  English    116.0\n",
            "4               4      5  ...                  Italian    161.0\n",
            "...           ...    ...  ...                      ...      ...\n",
            "16739       16739  16740  ...                  English    120.0\n",
            "16740       16740  16741  ...                  English     90.0\n",
            "16741       16741  16742  ...                  English      NaN\n",
            "16742       16742  16743  ...                  English      NaN\n",
            "16743       16743  16744  ...                  English     32.0\n",
            "\n",
            "[16744 rows x 17 columns]>\n"
          ],
          "name": "stdout"
        }
      ]
    },
    {
      "cell_type": "markdown",
      "metadata": {
        "id": "jd2aZiwzjDYp"
      },
      "source": [
        "This dataset contains a list of movie titles, the streaming platform they are available on (binary, 1 or 0), their IMDb and Rotten Tomatoes ratings, and other data. Based on the explore funtion above, we can see that it contains over 16,700 records total."
      ]
    },
    {
      "cell_type": "markdown",
      "metadata": {
        "id": "N99knlrzjmbw"
      },
      "source": [
        "Next, let's clean up this dataset so its easier to ingest."
      ]
    },
    {
      "cell_type": "code",
      "metadata": {
        "id": "ZMVcueLJTj2L"
      },
      "source": [
        "#drop columns Unnamed: 0, ID, and Type, put into new df\n",
        "svod_df_clean = svod_df.drop(columns=['Unnamed: 0', 'ID', 'Type'])\n",
        "\n",
        "#convert column svod_df['Rotten Tomatoes'] to floats - only done once, then throws Attribution Error\n",
        "svod_df_clean['Rotten Tomatoes'] = svod_df['Rotten Tomatoes'].str.replace('%','',regex=False).astype('float')\n",
        "\n",
        "#convert IMDB ratings from rating out of 10 to rating out of 100 to match Rotten Tomatoes format\n",
        "svod_df_clean['IMDb'] = (svod_df['IMDb']*10)\n",
        "\n",
        "#add column for average rating that is an average of a title's IMDb and Rotten Tomatoes rating\n",
        "svod_df_clean['Average Rating'] = (svod_df_clean['IMDb'] + svod_df_clean['Rotten Tomatoes']) /2\n",
        "\n",
        "#add column called 'Total Platforms' that has the total number of platforms the title is on\n",
        "svod_df_clean['Total Platforms'] = svod_df_clean['Netflix'] + svod_df_clean['Hulu'] + svod_df_clean['Prime Video'] + svod_df_clean['Disney+']"
      ],
      "execution_count": null,
      "outputs": []
    },
    {
      "cell_type": "code",
      "metadata": {
        "id": "94-MWOq8bkbQ",
        "colab": {
          "base_uri": "https://localhost:8080/"
        },
        "outputId": "5b7167b7-3687-4bc0-b291-a9843a868757"
      },
      "source": [
        "#look at new df with defined function now that it is cleaned up\n",
        "explore_df(svod_df_clean)"
      ],
      "execution_count": null,
      "outputs": [
        {
          "output_type": "stream",
          "text": [
            "Dataframe: svod_df_clean\n",
            "The shape of this DataFrame is (16744, 16)\n",
            "The columns in this DataFrame are Index(['Title', 'Year', 'Age', 'IMDb', 'Rotten Tomatoes', 'Netflix', 'Hulu',\n",
            "       'Prime Video', 'Disney+', 'Directors', 'Genres', 'Country', 'Language',\n",
            "       'Runtime', 'Average Rating', 'Total Platforms'],\n",
            "      dtype='object')\n",
            "The info:\n",
            "<class 'pandas.core.frame.DataFrame'>\n",
            "RangeIndex: 16744 entries, 0 to 16743\n",
            "Data columns (total 16 columns):\n",
            " #   Column           Non-Null Count  Dtype  \n",
            "---  ------           --------------  -----  \n",
            " 0   Title            16744 non-null  object \n",
            " 1   Year             16744 non-null  int64  \n",
            " 2   Age              7354 non-null   object \n",
            " 3   IMDb             16173 non-null  float64\n",
            " 4   Rotten Tomatoes  5158 non-null   float64\n",
            " 5   Netflix          16744 non-null  int64  \n",
            " 6   Hulu             16744 non-null  int64  \n",
            " 7   Prime Video      16744 non-null  int64  \n",
            " 8   Disney+          16744 non-null  int64  \n",
            " 9   Directors        16018 non-null  object \n",
            " 10  Genres           16469 non-null  object \n",
            " 11  Country          16309 non-null  object \n",
            " 12  Language         16145 non-null  object \n",
            " 13  Runtime          16152 non-null  float64\n",
            " 14  Average Rating   5156 non-null   float64\n",
            " 15  Total Platforms  16744 non-null  int64  \n",
            "dtypes: float64(4), int64(6), object(6)\n",
            "memory usage: 2.0+ MB\n",
            "None\n",
            "The first 5 rows in this DataFrame are                             Title  Year  ... Average Rating  Total Platforms\n",
            "0                       Inception  2010  ...           87.5                1\n",
            "1                      The Matrix  1999  ...           87.0                1\n",
            "2          Avengers: Infinity War  2018  ...           84.5                1\n",
            "3              Back to the Future  1985  ...           90.5                1\n",
            "4  The Good, the Bad and the Ugly  1966  ...           92.5                2\n",
            "\n",
            "[5 rows x 16 columns]\n",
            "\n",
            "\n"
          ],
          "name": "stdout"
        }
      ]
    },
    {
      "cell_type": "code",
      "metadata": {
        "id": "sV4aQxIAAL1L",
        "colab": {
          "base_uri": "https://localhost:8080/"
        },
        "outputId": "a6543b40-3f8e-4678-a0d8-e44fcd6e39de"
      },
      "source": [
        "#check to see how many records have null values\n",
        "print(svod_df_clean.isnull().sum())"
      ],
      "execution_count": null,
      "outputs": [
        {
          "output_type": "stream",
          "text": [
            "Title                  0\n",
            "Year                   0\n",
            "Age                 9390\n",
            "IMDb                 571\n",
            "Rotten Tomatoes    11586\n",
            "Netflix                0\n",
            "Hulu                   0\n",
            "Prime Video            0\n",
            "Disney+                0\n",
            "Directors            726\n",
            "Genres               275\n",
            "Country              435\n",
            "Language             599\n",
            "Runtime              592\n",
            "Average Rating     11588\n",
            "Total Platforms        0\n",
            "dtype: int64\n"
          ],
          "name": "stdout"
        }
      ]
    },
    {
      "cell_type": "code",
      "metadata": {
        "colab": {
          "base_uri": "https://localhost:8080/",
          "height": 567
        },
        "cellView": "form",
        "id": "w9gQIqNwSa7r",
        "outputId": "3ecac785-a94a-4f88-ebdf-be68d1ae2e62"
      },
      "source": [
        "#@title Use pair plot to determine which rating is best to use for analysis, and drop the column not used to limit the number of nulls (i.e. keep as many records as possible.)\n",
        "#use pair plot to determine which rating to use\n",
        "sns.pairplot(svod_df_clean[['IMDb', 'Rotten Tomatoes', 'Average Rating']])"
      ],
      "execution_count": null,
      "outputs": [
        {
          "output_type": "execute_result",
          "data": {
            "text/plain": [
              "<seaborn.axisgrid.PairGrid at 0x7f4f389e9470>"
            ]
          },
          "metadata": {
            "tags": []
          },
          "execution_count": 9
        },
        {
          "output_type": "display_data",
          "data": {
            "image/png": "[encoded data removed]",
            "text/plain": [
              "<Figure size 540x540 with 12 Axes>"
            ]
          },
          "metadata": {
            "tags": [],
            "needs_background": "light"
          }
        }
      ]
    },
    {
      "cell_type": "markdown",
      "metadata": {
        "id": "gfx-SgrrM0jT"
      },
      "source": [
        "Based on the pair plot above, we can see that the Rotten Tomatoes score and Average Rating score are skewed upward, and that the IMDb score is most normally distributed. For this reason, the IMDb score is best to use for analysis. We will now drop the Rotten Tomatoes and Average Rating columns to preserve data records."
      ]
    },
    {
      "cell_type": "code",
      "metadata": {
        "id": "fA9qnR85Ty9g"
      },
      "source": [
        "#drop columns Rotten Tomatoes and Average Rating\n",
        "svod_df_clean = svod_df_clean.drop(columns=['Rotten Tomatoes', 'Average Rating'])"
      ],
      "execution_count": null,
      "outputs": []
    },
    {
      "cell_type": "code",
      "metadata": {
        "id": "r8JEZcYgPEBG",
        "colab": {
          "base_uri": "https://localhost:8080/"
        },
        "outputId": "44bc9cb7-6ee6-4054-b213-f48996019bf9"
      },
      "source": [
        "#if we drop all records that have null values in any column \n",
        "#(leaving us with only complete records) how many records will we have?\n",
        "svod_df_filtered = svod_df_clean.dropna()\n",
        "explore_df(svod_df_filtered)"
      ],
      "execution_count": null,
      "outputs": [
        {
          "output_type": "stream",
          "text": [
            "Dataframe: svod_df_filtered\n",
            "The shape of this DataFrame is (7046, 14)\n",
            "The columns in this DataFrame are Index(['Title', 'Year', 'Age', 'IMDb', 'Netflix', 'Hulu', 'Prime Video',\n",
            "       'Disney+', 'Directors', 'Genres', 'Country', 'Language', 'Runtime',\n",
            "       'Total Platforms'],\n",
            "      dtype='object')\n",
            "The info:\n",
            "<class 'pandas.core.frame.DataFrame'>\n",
            "Int64Index: 7046 entries, 0 to 16740\n",
            "Data columns (total 14 columns):\n",
            " #   Column           Non-Null Count  Dtype  \n",
            "---  ------           --------------  -----  \n",
            " 0   Title            7046 non-null   object \n",
            " 1   Year             7046 non-null   int64  \n",
            " 2   Age              7046 non-null   object \n",
            " 3   IMDb             7046 non-null   float64\n",
            " 4   Netflix          7046 non-null   int64  \n",
            " 5   Hulu             7046 non-null   int64  \n",
            " 6   Prime Video      7046 non-null   int64  \n",
            " 7   Disney+          7046 non-null   int64  \n",
            " 8   Directors        7046 non-null   object \n",
            " 9   Genres           7046 non-null   object \n",
            " 10  Country          7046 non-null   object \n",
            " 11  Language         7046 non-null   object \n",
            " 12  Runtime          7046 non-null   float64\n",
            " 13  Total Platforms  7046 non-null   int64  \n",
            "dtypes: float64(2), int64(6), object(6)\n",
            "memory usage: 825.7+ KB\n",
            "None\n",
            "The first 5 rows in this DataFrame are                             Title  Year  ... Runtime  Total Platforms\n",
            "0                       Inception  2010  ...   148.0                1\n",
            "1                      The Matrix  1999  ...   136.0                1\n",
            "2          Avengers: Infinity War  2018  ...   149.0                1\n",
            "3              Back to the Future  1985  ...   116.0                1\n",
            "4  The Good, the Bad and the Ugly  1966  ...   161.0                2\n",
            "\n",
            "[5 rows x 14 columns]\n",
            "\n",
            "\n"
          ],
          "name": "stdout"
        }
      ]
    },
    {
      "cell_type": "markdown",
      "metadata": {
        "id": "0ppawLlinHF-"
      },
      "source": [
        "## Business of Apps Dataset - Webscrape"
      ]
    },
    {
      "cell_type": "markdown",
      "metadata": {
        "id": "QdWD3GSCnilp"
      },
      "source": [
        "Ye Olde Webscrape"
      ]
    },
    {
      "cell_type": "markdown",
      "metadata": {
        "id": "qSBbXAs99YGU"
      },
      "source": [
        "*Note: The variable ```html_doc``` below is not a live link, but a snippet of html code that has been processed with Beautiful Soup and an html parser. This is to avoid multiple scrapes of the website while still being able to parse the CSS code for valuable data. The webpage can be found [here](https://www.businessofapps.com/data/video-streaming-app-market/).\n",
        "\n"
      ]
    },
    {
      "cell_type": "code",
      "metadata": {
        "id": "e8OfU8FX20rO",
        "colab": {
          "base_uri": "https://localhost:8080/"
        },
        "cellView": "form",
        "outputId": "c86fa857-7be6-46ce-b1f4-da4dd2c64055"
      },
      "source": [
        "#@title Pull in html code, convert into bs object ```soup```, and print 'prettified' soup object to inspect elements\n",
        "#pull US Video Streaming App Subscriber Usage data from Business of Apps site\n",
        "#use bs4 and html.parser to parse the CSS for easier data processing - print 'pretty' soup\n",
        "html_doc = '''\n",
        "<h3>US Video Streaming App Usage</h3><div class=\"infogram-embed\" data-id=\"e7a570fe-ddc8-43e9-889a-44452fd18f1f\" data-type=\"interactive\" data-title=\"US video streaming users\"></div><p></p><table style=\"width: 100%; height: 92px;\"><tbody><tr style=\"height: 23px;\"><td style=\"background-color: #f0f0f0; height: 23px; width: 49.2586%;\" width=\"301\"><strong><span style=\"font-size: 12pt;\">App Name</span></strong></td><td style=\"background-color: #f0f0f0; height: 23px; width: 49.5881%;\" width=\"301\"><strong><span style=\"font-size: 12pt;\">US Video Streaming App Usage</span></strong></td></tr><tr style=\"height: 23px;\"><td style=\"width: 49.2586%;\" width=\"301\"><span style=\"font-size: 12pt;\"><span style=\"font-size: 12pt;\">YouTube</span></span></td><td style=\"width: 49.5881%;\" width=\"301\"><span style=\"font-size: 12pt;\"><span style=\"font-size: 12pt;\">150 million</span></span></td></tr><tr style=\"height: 23px;\"><td style=\"background-color: #f0f0f0; height: 23px; width: 49.2586%;\"><span style=\"font-size: 12pt;\">TikTok</span></td><td style=\"background-color: #f0f0f0; height: 23px; width: 49.5881%;\"><span style=\"font-size: 12pt;\">80 million</span></td></tr><tr style=\"height: 23px;\"><td style=\"width: 49.2586%;\" width=\"301\"><span style=\"font-size: 12pt;\"><span style=\"font-size: 12pt;\">Netflix</span></span></td><td style=\"width: 49.5881%;\" width=\"301\"><span style=\"font-size: 12pt;\"><span style=\"font-size: 12pt;\">75 million</span></span></td></tr><tr style=\"height: 23px;\"><td style=\"background-color: #f0f0f0; height: 23px; width: 49.2586%;\"><span style=\"font-size: 12pt;\">Disney+</span></td><td style=\"background-color: #f0f0f0; height: 23px; width: 49.2586%;\"><span style=\"font-size: 12pt;\"><span style=\"font-size: 12pt;\">45 million</span></span></td></tr><tr style=\"height: 23px;\"><td style=\"width: 49.2586%;\" width=\"301\"><span style=\"font-size: 12pt;\">Amazon Prime Video</span></td><td style=\"width: 49.2586%;\" width=\"301\"><span style=\"font-size: 12pt;\">40 million</span></td></tr><tr style=\"height: 23px;\"><td style=\"background-color: #f0f0f0; height: 23px; width: 49.2586%;\"><span style=\"font-size: 12pt;\">Twitch</span></td><td style=\"background-color: #f0f0f0; height: 23px; width: 49.2586%;\"><span style=\"font-size: 12pt;\">35 million</span></td></tr><tr style=\"height: 23px;\"><td style=\"width: 49.2586%;\" width=\"301\"><span style=\"font-size: 12pt;\">Hulu</span></td><td style=\"width: 49.2586%;\" width=\"301\"><span style=\"font-size: 12pt;\">35 million</span></td></tr><tr style=\"height: 23px;\"><td style=\"background-color: #f0f0f0; height: 23px; width: 49.2586%;\"><span style=\"font-size: 12pt;\">Apple TV+</span></td><td style=\"background-color: #f0f0f0; height: 23px; width: 49.2586%;\"><span style=\"font-size: 12pt;\">15 million</span></td></tr></tbody></table>\n",
        "'''\n",
        "soup = BeautifulSoup(html_doc, 'html.parser')\n",
        "print(soup.prettify())"
      ],
      "execution_count": null,
      "outputs": [
        {
          "output_type": "stream",
          "text": [
            "<h3>\n",
            " US Video Streaming App Usage\n",
            "</h3>\n",
            "<div class=\"infogram-embed\" data-id=\"e7a570fe-ddc8-43e9-889a-44452fd18f1f\" data-title=\"US video streaming users\" data-type=\"interactive\">\n",
            "</div>\n",
            "<p>\n",
            "</p>\n",
            "<table style=\"width: 100%; height: 92px;\">\n",
            " <tbody>\n",
            "  <tr style=\"height: 23px;\">\n",
            "   <td style=\"background-color: #f0f0f0; height: 23px; width: 49.2586%;\" width=\"301\">\n",
            "    <strong>\n",
            "     <span style=\"font-size: 12pt;\">\n",
            "      App Name\n",
            "     </span>\n",
            "    </strong>\n",
            "   </td>\n",
            "   <td style=\"background-color: #f0f0f0; height: 23px; width: 49.5881%;\" width=\"301\">\n",
            "    <strong>\n",
            "     <span style=\"font-size: 12pt;\">\n",
            "      US Video Streaming App Usage\n",
            "     </span>\n",
            "    </strong>\n",
            "   </td>\n",
            "  </tr>\n",
            "  <tr style=\"height: 23px;\">\n",
            "   <td style=\"width: 49.2586%;\" width=\"301\">\n",
            "    <span style=\"font-size: 12pt;\">\n",
            "     <span style=\"font-size: 12pt;\">\n",
            "      YouTube\n",
            "     </span>\n",
            "    </span>\n",
            "   </td>\n",
            "   <td style=\"width: 49.5881%;\" width=\"301\">\n",
            "    <span style=\"font-size: 12pt;\">\n",
            "     <span style=\"font-size: 12pt;\">\n",
            "      150 million\n",
            "     </span>\n",
            "    </span>\n",
            "   </td>\n",
            "  </tr>\n",
            "  <tr style=\"height: 23px;\">\n",
            "   <td style=\"background-color: #f0f0f0; height: 23px; width: 49.2586%;\">\n",
            "    <span style=\"font-size: 12pt;\">\n",
            "     TikTok\n",
            "    </span>\n",
            "   </td>\n",
            "   <td style=\"background-color: #f0f0f0; height: 23px; width: 49.5881%;\">\n",
            "    <span style=\"font-size: 12pt;\">\n",
            "     80 million\n",
            "    </span>\n",
            "   </td>\n",
            "  </tr>\n",
            "  <tr style=\"height: 23px;\">\n",
            "   <td style=\"width: 49.2586%;\" width=\"301\">\n",
            "    <span style=\"font-size: 12pt;\">\n",
            "     <span style=\"font-size: 12pt;\">\n",
            "      Netflix\n",
            "     </span>\n",
            "    </span>\n",
            "   </td>\n",
            "   <td style=\"width: 49.5881%;\" width=\"301\">\n",
            "    <span style=\"font-size: 12pt;\">\n",
            "     <span style=\"font-size: 12pt;\">\n",
            "      75 million\n",
            "     </span>\n",
            "    </span>\n",
            "   </td>\n",
            "  </tr>\n",
            "  <tr style=\"height: 23px;\">\n",
            "   <td style=\"background-color: #f0f0f0; height: 23px; width: 49.2586%;\">\n",
            "    <span style=\"font-size: 12pt;\">\n",
            "     Disney+\n",
            "    </span>\n",
            "   </td>\n",
            "   <td style=\"background-color: #f0f0f0; height: 23px; width: 49.2586%;\">\n",
            "    <span style=\"font-size: 12pt;\">\n",
            "     <span style=\"font-size: 12pt;\">\n",
            "      45 million\n",
            "     </span>\n",
            "    </span>\n",
            "   </td>\n",
            "  </tr>\n",
            "  <tr style=\"height: 23px;\">\n",
            "   <td style=\"width: 49.2586%;\" width=\"301\">\n",
            "    <span style=\"font-size: 12pt;\">\n",
            "     Amazon Prime Video\n",
            "    </span>\n",
            "   </td>\n",
            "   <td style=\"width: 49.2586%;\" width=\"301\">\n",
            "    <span style=\"font-size: 12pt;\">\n",
            "     40 million\n",
            "    </span>\n",
            "   </td>\n",
            "  </tr>\n",
            "  <tr style=\"height: 23px;\">\n",
            "   <td style=\"background-color: #f0f0f0; height: 23px; width: 49.2586%;\">\n",
            "    <span style=\"font-size: 12pt;\">\n",
            "     Twitch\n",
            "    </span>\n",
            "   </td>\n",
            "   <td style=\"background-color: #f0f0f0; height: 23px; width: 49.2586%;\">\n",
            "    <span style=\"font-size: 12pt;\">\n",
            "     35 million\n",
            "    </span>\n",
            "   </td>\n",
            "  </tr>\n",
            "  <tr style=\"height: 23px;\">\n",
            "   <td style=\"width: 49.2586%;\" width=\"301\">\n",
            "    <span style=\"font-size: 12pt;\">\n",
            "     Hulu\n",
            "    </span>\n",
            "   </td>\n",
            "   <td style=\"width: 49.2586%;\" width=\"301\">\n",
            "    <span style=\"font-size: 12pt;\">\n",
            "     35 million\n",
            "    </span>\n",
            "   </td>\n",
            "  </tr>\n",
            "  <tr style=\"height: 23px;\">\n",
            "   <td style=\"background-color: #f0f0f0; height: 23px; width: 49.2586%;\">\n",
            "    <span style=\"font-size: 12pt;\">\n",
            "     Apple TV+\n",
            "    </span>\n",
            "   </td>\n",
            "   <td style=\"background-color: #f0f0f0; height: 23px; width: 49.2586%;\">\n",
            "    <span style=\"font-size: 12pt;\">\n",
            "     15 million\n",
            "    </span>\n",
            "   </td>\n",
            "  </tr>\n",
            " </tbody>\n",
            "</table>\n",
            "\n"
          ],
          "name": "stdout"
        }
      ]
    },
    {
      "cell_type": "code",
      "metadata": {
        "id": "mspnxjkD4EvM",
        "cellView": "form"
      },
      "source": [
        "#@title Use the parsed html from the soup object to turn the data in the CSS tags into a dataframe, ```platform_usage_df```\n",
        "#initiate lists for streaming_service and platform_usage variables\n",
        "streaming_services = []\n",
        "platform_usage = []\n",
        "\n",
        "#use a list comprehension to isolate span tags within td tags\n",
        "span_tags = [span for span in soup.select('td > span')]\n",
        "\n",
        "#use a for loop to iterate over span tags and clean data for use\n",
        "for s in span_tags:\n",
        "  span1_markup_string_index_position = len('<bound method Tag.get_text of <span style=\"font-size: 12pt;\">') #create variable to locate the index position of this markup in the text to eventually slice and strip it\n",
        "  s_string = str(s.get_text) #convert s tags from bs4 tag elements to strings for processing with string methods\n",
        "  s_string_span1_stripped = s_string[(span1_markup_string_index_position):] #slice string (using markup_string_index_position variable defined above as the index position) to remove first span tag\n",
        "  #use conditional logic to determine if string begins with additional span markup to strip\n",
        "  if s_string_span1_stripped[0] == '<' :\n",
        "    span2_markup_string_index_position = len('<span style=\"font-size: 12pt;\">')\n",
        "    s_string_span1_stripped = s_string_span1_stripped[span2_markup_string_index_position: ]\n",
        "  #use find string method to locate index and strip markup\n",
        "  end_string_markup_index_position = s_string_span1_stripped.find('<')\n",
        "  clean_string = s_string_span1_stripped[:end_string_markup_index_position]\n",
        "  #use conditional statement to strip excess alpha characters at the end of the subscriber counts\n",
        "  if not clean_string[0].isalpha():\n",
        "    end_string_markup_index_position = clean_string.find(' million')\n",
        "    clean_string = clean_string[ :end_string_markup_index_position]\n",
        "    clean_float = float(clean_string) #convert clean_float from string to float for easier analysis later on\n",
        "    platform_usage.append(clean_float) #add floats to global list variable platform_usage\n",
        "  else:\n",
        "    streaming_services.append(clean_string) #for other strings that do not contain numbers, append them to global list variable streaming_services\n",
        "\n",
        "#initiate empty list to store clean svod subscriber data dictionaries\n",
        "subscriber_usage_data = []\n",
        "\n",
        "#create list of tuples\n",
        "subscriber_tuples_z = zip(streaming_services, platform_usage)\n",
        "subscriber_tuples = list(subscriber_tuples_z) #convert zip object to list\n",
        "\n",
        "#use for loop to populate dictionaries\n",
        "for a,b in subscriber_tuples:\n",
        "  subscriber_dictionary = {'Streaming Service' : a, 'Usage' : b }\n",
        "  subscriber_usage_data.append(subscriber_dictionary)\n",
        "\n",
        "#turn list of dictionaries into df\n",
        "platform_usage_df = pd.DataFrame(subscriber_usage_data)\n",
        "platform_usage_df.to_csv('platform_usage_df.csv')"
      ],
      "execution_count": null,
      "outputs": []
    },
    {
      "cell_type": "code",
      "metadata": {
        "colab": {
          "base_uri": "https://localhost:8080/"
        },
        "id": "VSHYxvDbjg5k",
        "outputId": "9f4d1ea2-b8c9-442f-c3ca-b9dc749711c8"
      },
      "source": [
        "#use the function we defined earlier for inspecting df's to check out our subscriber data\n",
        "explore_df(platform_usage_df)"
      ],
      "execution_count": null,
      "outputs": [
        {
          "output_type": "stream",
          "text": [
            "Dataframe: platform_usage_df\n",
            "The shape of this DataFrame is (8, 2)\n",
            "The columns in this DataFrame are Index(['Streaming Service', 'Usage'], dtype='object')\n",
            "The info:\n",
            "<class 'pandas.core.frame.DataFrame'>\n",
            "RangeIndex: 8 entries, 0 to 7\n",
            "Data columns (total 2 columns):\n",
            " #   Column             Non-Null Count  Dtype  \n",
            "---  ------             --------------  -----  \n",
            " 0   Streaming Service  8 non-null      object \n",
            " 1   Usage              8 non-null      float64\n",
            "dtypes: float64(1), object(1)\n",
            "memory usage: 256.0+ bytes\n",
            "None\n",
            "The first 5 rows in this DataFrame are     Streaming Service  Usage\n",
            "0             YouTube  150.0\n",
            "1              TikTok   80.0\n",
            "2             Netflix   75.0\n",
            "3             Disney+   45.0\n",
            "4  Amazon Prime Video   40.0\n",
            "\n",
            "\n"
          ],
          "name": "stdout"
        }
      ]
    },
    {
      "cell_type": "code",
      "metadata": {
        "colab": {
          "base_uri": "https://localhost:8080/"
        },
        "id": "ka0F3rZwluK3",
        "outputId": "c325d748-911e-4837-c628-2d2fcee68ab7"
      },
      "source": [
        "#create df with only platforms we are interested in\n",
        "platform_usage_df_clean = platform_usage_df[platform_usage_df['Streaming Service'].isin(['Netflix', 'Disney+', 'Amazon Prime Video', 'Hulu'])]\n",
        "explore_df(platform_usage_df_clean)"
      ],
      "execution_count": null,
      "outputs": [
        {
          "output_type": "stream",
          "text": [
            "Dataframe: platform_usage_df_clean\n",
            "The shape of this DataFrame is (4, 2)\n",
            "The columns in this DataFrame are Index(['Streaming Service', 'Usage'], dtype='object')\n",
            "The info:\n",
            "<class 'pandas.core.frame.DataFrame'>\n",
            "Int64Index: 4 entries, 2 to 6\n",
            "Data columns (total 2 columns):\n",
            " #   Column             Non-Null Count  Dtype  \n",
            "---  ------             --------------  -----  \n",
            " 0   Streaming Service  4 non-null      object \n",
            " 1   Usage              4 non-null      float64\n",
            "dtypes: float64(1), object(1)\n",
            "memory usage: 96.0+ bytes\n",
            "None\n",
            "The first 5 rows in this DataFrame are     Streaming Service  Usage\n",
            "2             Netflix   75.0\n",
            "3             Disney+   45.0\n",
            "4  Amazon Prime Video   40.0\n",
            "6                Hulu   35.0\n",
            "\n",
            "\n"
          ],
          "name": "stdout"
        }
      ]
    },
    {
      "cell_type": "markdown",
      "metadata": {
        "id": "wLcvTfZZuVKu"
      },
      "source": [
        "## Resulting DataFrames from Sources\n"
      ]
    },
    {
      "cell_type": "markdown",
      "metadata": {
        "id": "akzMvbHwUpAC"
      },
      "source": [
        "\n",
        "\n",
        "> ReelGood Data from CSV\n",
        "\n",
        "*   `svod_df` - full dataframe from source \n",
        "*   `svod_df_clean` - cleaned dataframe containing null values with column added for total platforms\n",
        "*   `svod_df_filtered` - cleaned dataframe containing only non null values\n",
        "\n",
        "> Business of Apps Data from Webscrape\n",
        "\n",
        "*   `platform_usage_df_clean` - cleaned dataframe containing only non null values of the four platforms we are analyzing\n"
      ]
    },
    {
      "cell_type": "markdown",
      "metadata": {
        "id": "fNtmfJMnUNlL"
      },
      "source": [
        "# Explore Data"
      ]
    },
    {
      "cell_type": "markdown",
      "metadata": {
        "id": "Groribz5SdNU"
      },
      "source": [
        "## Are most movies available on multiple platforms?"
      ]
    },
    {
      "cell_type": "code",
      "metadata": {
        "colab": {
          "base_uri": "https://localhost:8080/",
          "height": 517
        },
        "id": "6-VXuJkSS7yu",
        "cellView": "form",
        "outputId": "ac948b1b-b4bd-47b1-e0e6-753519b36c59"
      },
      "source": [
        "#@title Count of titles in 1, 2, 3, or all 4 platforms { vertical-output: true }\n",
        "#use a count plot to show if most movies are on 1, 2, or 3 platforms\n",
        "plt.figure(figsize = (8,8))\n",
        "sns.countplot(x = svod_df_filtered['Total Platforms'])"
      ],
      "execution_count": null,
      "outputs": [
        {
          "output_type": "execute_result",
          "data": {
            "text/plain": [
              "<matplotlib.axes._subplots.AxesSubplot at 0x7f4f35404a58>"
            ]
          },
          "metadata": {
            "tags": []
          },
          "execution_count": 16
        },
        {
          "output_type": "display_data",
          "data": {
            "image/png": "[encoded data removed]",
            "text/plain": [
              "<Figure size 576x576 with 1 Axes>"
            ]
          },
          "metadata": {
            "tags": [],
            "needs_background": "light"
          }
        }
      ]
    },
    {
      "cell_type": "markdown",
      "metadata": {
        "id": "DTwDzE3Gtw78"
      },
      "source": [
        "The overwhelming majority of titles in this set are only found on one platform - that is most of the movies on any given platform are unique to that platform."
      ]
    },
    {
      "cell_type": "markdown",
      "metadata": {
        "id": "f9hRg0NvKhdv"
      },
      "source": [
        "## How many titles does each platform have?"
      ]
    },
    {
      "cell_type": "code",
      "metadata": {
        "id": "nutMa_RZw6tI",
        "cellView": "form"
      },
      "source": [
        "#@title Define function, ```create_sum_df```, to create a df to sum titles per platform to visualize. Make ```sum_df``` a global variable so it can be used in later analysis.\n",
        "#define function to create df to sum titles per platform to visualize\n",
        "def create_sum_df(df, group_by_list):\n",
        "  \n",
        "  sum_list_of_dictionaries = []\n",
        "    \n",
        "  for i in group_by_list:\n",
        "    sum = df[f'{i}'].sum()\n",
        "    dictionary = {'Category': i, 'Sum': sum}\n",
        "    sum_list_of_dictionaries.append(dictionary)\n",
        "  \n",
        "  global sum_df\n",
        "  sum_df = pd.DataFrame(sum_list_of_dictionaries)\n",
        "  \n",
        "  plt.figure(figsize = (8,8))\n",
        "  sns.barplot(x=\"Category\", y=\"Sum\", palette=\"GnBu\", data=sum_df.sort_values(by='Sum', ascending = False))\n",
        "  return sum_df"
      ],
      "execution_count": null,
      "outputs": []
    },
    {
      "cell_type": "code",
      "metadata": {
        "colab": {
          "base_uri": "https://localhost:8080/",
          "height": 653
        },
        "id": "eoq15iUN8-vB",
        "cellView": "form",
        "outputId": "46da9b98-9db5-40d7-fae0-401a0c9a06f4"
      },
      "source": [
        "#@title Execute ```create_sum_df``` function to create dataframe with the sum of available titles for each platform { vertical-output: true }\n",
        "#use create_titles_sum_df function\n",
        "platforms = ['Netflix', 'Hulu', 'Prime Video', 'Disney+']\n",
        "create_sum_df(svod_df_filtered, platforms)"
      ],
      "execution_count": null,
      "outputs": [
        {
          "output_type": "execute_result",
          "data": {
            "text/html": [
              "<div>\n",
              "<style scoped>\n",
              "    .dataframe tbody tr th:only-of-type {\n",
              "        vertical-align: middle;\n",
              "    }\n",
              "\n",
              "    .dataframe tbody tr th {\n",
              "        vertical-align: top;\n",
              "    }\n",
              "\n",
              "    .dataframe thead th {\n",
              "        text-align: right;\n",
              "    }\n",
              "</style>\n",
              "<table border=\"1\" class=\"dataframe\">\n",
              "  <thead>\n",
              "    <tr style=\"text-align: right;\">\n",
              "      <th></th>\n",
              "      <th>Category</th>\n",
              "      <th>Sum</th>\n",
              "    </tr>\n",
              "  </thead>\n",
              "  <tbody>\n",
              "    <tr>\n",
              "      <th>0</th>\n",
              "      <td>Netflix</td>\n",
              "      <td>1609</td>\n",
              "    </tr>\n",
              "    <tr>\n",
              "      <th>1</th>\n",
              "      <td>Hulu</td>\n",
              "      <td>567</td>\n",
              "    </tr>\n",
              "    <tr>\n",
              "      <th>2</th>\n",
              "      <td>Prime Video</td>\n",
              "      <td>4761</td>\n",
              "    </tr>\n",
              "    <tr>\n",
              "      <th>3</th>\n",
              "      <td>Disney+</td>\n",
              "      <td>489</td>\n",
              "    </tr>\n",
              "  </tbody>\n",
              "</table>\n",
              "</div>"
            ],
            "text/plain": [
              "      Category   Sum\n",
              "0      Netflix  1609\n",
              "1         Hulu   567\n",
              "2  Prime Video  4761\n",
              "3      Disney+   489"
            ]
          },
          "metadata": {
            "tags": []
          },
          "execution_count": 18
        },
        {
          "output_type": "display_data",
          "data": {
            "image/png": "[encoded data removed]",
            "text/plain": [
              "<Figure size 576x576 with 1 Axes>"
            ]
          },
          "metadata": {
            "tags": [],
            "needs_background": "light"
          }
        }
      ]
    },
    {
      "cell_type": "markdown",
      "metadata": {
        "id": "rXfnY2Z4P1GX"
      },
      "source": [
        "Far and away Amazon Prime has the biggest offering of movie titles - with Netflix coming in second, Hulu in third, and Disney+ in fourth. It is worth noting that roughly 30% of Amazon Prime's movie catalog is rent or buy only."
      ]
    },
    {
      "cell_type": "markdown",
      "metadata": {
        "id": "AjW6ye3rkqlV"
      },
      "source": [
        "# Analyze"
      ]
    },
    {
      "cell_type": "markdown",
      "metadata": {
        "id": "ZBSAhCN7vibI"
      },
      "source": [
        "## Quality or Quantity?"
      ]
    },
    {
      "cell_type": "markdown",
      "metadata": {
        "id": "CCywMCbQwBm-"
      },
      "source": [
        "We have established that Amazon Prime has the largest offering of movie titles - followed by Netflix, Hulu, then Disney+. But what about the quality of movies offered on each streaming platform?"
      ]
    },
    {
      "cell_type": "code",
      "metadata": {
        "id": "nWHBtb6k-fEm",
        "cellView": "form"
      },
      "source": [
        "#@title Define function, ```create_avg_df```, to find the average IMDb rating per platform, transform into a df, then create a vizualization. Make ```avg_df``` a global variable so it can be used in later analysis.\n",
        "#define function to create df to sum titles per platform to visualize\n",
        "def create_avg_df(df, group_by_list):\n",
        "  \n",
        "  list_of_dictionaries = []\n",
        "    \n",
        "  for i in group_by_list:\n",
        "    avg = df.iloc[(df[f'{i}'] == 1).values]['IMDb'].mean()\n",
        "    dictionary = {'Category': i, 'Average Rating': avg}\n",
        "    list_of_dictionaries.append(dictionary)\n",
        "  \n",
        "  global avg_df\n",
        "  avg_df = pd.DataFrame(list_of_dictionaries)\n",
        "  \n",
        "  plt.figure(figsize = (8,8))\n",
        "  sns.barplot(x=\"Category\", y=\"Average Rating\", palette=\"GnBu\", data=avg_df.sort_values(by='Average Rating', ascending = False))\n",
        "  return avg_df"
      ],
      "execution_count": null,
      "outputs": []
    },
    {
      "cell_type": "code",
      "metadata": {
        "colab": {
          "base_uri": "https://localhost:8080/",
          "height": 653
        },
        "id": "PdLy_SEw-l56",
        "cellView": "form",
        "outputId": "f1a8ff81-e000-45a9-cc26-9dbc5ec8c048"
      },
      "source": [
        "#@title Execute function ```create_avg_df``` to create dataframe with the average IMDb rating per platform and visualize { vertical-output: true }\n",
        "#use create_titles_sum_df function with global list variable platforms, created above\n",
        "create_avg_df(svod_df_filtered, platforms)"
      ],
      "execution_count": null,
      "outputs": [
        {
          "output_type": "execute_result",
          "data": {
            "text/html": [
              "<div>\n",
              "<style scoped>\n",
              "    .dataframe tbody tr th:only-of-type {\n",
              "        vertical-align: middle;\n",
              "    }\n",
              "\n",
              "    .dataframe tbody tr th {\n",
              "        vertical-align: top;\n",
              "    }\n",
              "\n",
              "    .dataframe thead th {\n",
              "        text-align: right;\n",
              "    }\n",
              "</style>\n",
              "<table border=\"1\" class=\"dataframe\">\n",
              "  <thead>\n",
              "    <tr style=\"text-align: right;\">\n",
              "      <th></th>\n",
              "      <th>Category</th>\n",
              "      <th>Average Rating</th>\n",
              "    </tr>\n",
              "  </thead>\n",
              "  <tbody>\n",
              "    <tr>\n",
              "      <th>0</th>\n",
              "      <td>Netflix</td>\n",
              "      <td>62.873835</td>\n",
              "    </tr>\n",
              "    <tr>\n",
              "      <th>1</th>\n",
              "      <td>Hulu</td>\n",
              "      <td>61.917108</td>\n",
              "    </tr>\n",
              "    <tr>\n",
              "      <th>2</th>\n",
              "      <td>Prime Video</td>\n",
              "      <td>56.268431</td>\n",
              "    </tr>\n",
              "    <tr>\n",
              "      <th>3</th>\n",
              "      <td>Disney+</td>\n",
              "      <td>63.993865</td>\n",
              "    </tr>\n",
              "  </tbody>\n",
              "</table>\n",
              "</div>"
            ],
            "text/plain": [
              "      Category  Average Rating\n",
              "0      Netflix       62.873835\n",
              "1         Hulu       61.917108\n",
              "2  Prime Video       56.268431\n",
              "3      Disney+       63.993865"
            ]
          },
          "metadata": {
            "tags": []
          },
          "execution_count": 20
        },
        {
          "output_type": "display_data",
          "data": {
            "image/png": "[encoded data removed]",
            "text/plain": [
              "<Figure size 576x576 with 1 Axes>"
            ]
          },
          "metadata": {
            "tags": [],
            "needs_background": "light"
          }
        }
      ]
    },
    {
      "cell_type": "markdown",
      "metadata": {
        "id": "_rPSo8B5H8qR"
      },
      "source": [
        "Interesting that these are in very close descending order as the number of titles - Could these be correlated?"
      ]
    },
    {
      "cell_type": "code",
      "metadata": {
        "colab": {
          "base_uri": "https://localhost:8080/"
        },
        "id": "ZwklD-NHOSNl",
        "cellView": "form",
        "outputId": "88ae340f-6ac1-41df-86c1-264207879f69"
      },
      "source": [
        "#@title Determine whether or not there is correlation between the number of movie titles a platform offers and its average IMBd rating.\n",
        "#determine the correlation and statistical significance of the correlation\n",
        "titles_rating_tuple = stats.pearsonr(avg_df['Average Rating'], sum_df['Sum'])\n",
        "print(f'The correlation between Sum of Titles and Average Rating is {titles_rating_tuple[0]}' + '\\n' + f'The p-value of this correlation is {titles_rating_tuple[1]}')"
      ],
      "execution_count": null,
      "outputs": [
        {
          "output_type": "stream",
          "text": [
            "The correlation between Sum of Titles and Average Rating is -0.9437677976851071\n",
            "The p-value of this correlation is 0.0562322023148929\n"
          ],
          "name": "stdout"
        }
      ]
    },
    {
      "cell_type": "markdown",
      "metadata": {
        "id": "JNwCKrWxTWoG"
      },
      "source": [
        "The correlation coefficient is -0.94, which is very close to -1. This indicates that the two variables in these sample populations are highly negatively correlated. However, with a p-value of 0.056, this correlation is not significant at the p < 0.05 level. \n",
        "\n",
        "That is to say, there is a 5.6% chance that you would get a correlation coefficient this high or higher in the overall population due to random chance. For this reason, we cannot reasonably generalize this correlation to the entire population.\n",
        "\n",
        "\n",
        "---\n",
        "\n",
        "\n",
        "Let's take a closer look at Amazon Prime: This platform has the largest offering of titles but the lowest average IMBd rating. Is Amazon Prime's average IMBd rating statistically lower than the other platforms?"
      ]
    },
    {
      "cell_type": "code",
      "metadata": {
        "colab": {
          "base_uri": "https://localhost:8080/"
        },
        "id": "W2nz8leD22UE",
        "outputId": "c1500080-3109-4f8d-b9e0-9f140cc756b3"
      },
      "source": [
        "#@title Conduct a t-test of Amazon Prime's average IMBd rating against the other platform's average IMBd rating to test for statistical significance.\n",
        "#to run the test, call the ttest_1samp from scipy\n",
        "amazon_df = svod_df_filtered.iloc[(svod_df_filtered['Prime Video'] == 1).values]\n",
        "not_amazon_df = svod_df_filtered.iloc[(svod_df_filtered['Prime Video'] == 0).values]\n",
        "rating_ttest = stats.ttest_ind(amazon_df['IMDb'], not_amazon_df['IMDb'])\n",
        "print(f'The t-statistic is {rating_ttest.statistic}' + '\\n' + f'and the p-value is {rating_ttest.pvalue}')"
      ],
      "execution_count": null,
      "outputs": [
        {
          "output_type": "stream",
          "text": [
            "The t-statistic is -20.654352247810216\n",
            "and the p-value is 4.570182091018959e-92\n"
          ],
          "name": "stdout"
        }
      ]
    },
    {
      "cell_type": "markdown",
      "metadata": {
        "id": "rN325ytQadY0"
      },
      "source": [
        "Clearly with a t-stat of -20.65 and a p-value well below 0.05, Amazon Prime's average IMBd rating is statistically lower than the rest of the platforms. \n",
        "\n",
        "Now that we have determined statistical significance, let's determine the effect size."
      ]
    },
    {
      "cell_type": "code",
      "metadata": {
        "id": "IfKrRzI58fMB",
        "colab": {
          "base_uri": "https://localhost:8080/"
        },
        "cellView": "form",
        "outputId": "5a483dda-160c-4a7c-99ed-260dcd00277e"
      },
      "source": [
        "#@title Calculate Cohen's d effect size of Amazon Prime's ratings compared to the other platforms.\n",
        "#calculate cohens_d = (sample_mean_a - sample_mean_b)/pooled_standard_deviation \n",
        "variance_amazon = statistics.stdev(amazon_df['IMDb'])**2\n",
        "variance_not_amazon = statistics.stdev(not_amazon_df['IMDb'])**2\n",
        "pooled_standard_deviation = math.sqrt((variance_amazon + variance_not_amazon)/2)\n",
        "cohens_d = (amazon_df['IMDb'].mean() - not_amazon_df['IMDb'].mean()) / pooled_standard_deviation\n",
        "print(f'The Cohen\\'s d effect size is {cohens_d}')"
      ],
      "execution_count": null,
      "outputs": [
        {
          "output_type": "stream",
          "text": [
            "The Cohen's d effect size is -0.5481805427971888\n"
          ],
          "name": "stdout"
        }
      ]
    },
    {
      "cell_type": "markdown",
      "metadata": {
        "id": "eCBt31MS8BdL"
      },
      "source": [
        "A Cohen's d of -0.55 means that Amazon Prime's average IMDb rating is 0.55 standard deviations below the average IMBd score of the other platforms. This is a moderate effect size.\n",
        "\n",
        "In other words, Amazon Prime has a lot of movies to choose from, however the movies tend to have lower IMBd ratings than the rest of the platforms.\n",
        "\n"
      ]
    },
    {
      "cell_type": "code",
      "metadata": {
        "colab": {
          "base_uri": "https://localhost:8080/",
          "height": 531
        },
        "cellView": "form",
        "id": "eDuU0gMZYxSF",
        "outputId": "b70e63fe-b0bc-450e-defd-02d7b1159ed6"
      },
      "source": [
        "#@title For further illustration, calculate the mean difference at the 95% confidence interval, and visualize with a boxplot.\n",
        "#define function to prent and print the confidence interval of two iterables\n",
        "def get_95_ci(array_1, array_2):\n",
        "    sample_1_n = array_1.shape[0]\n",
        "    sample_2_n = array_2.shape[0]\n",
        "    sample_1_mean = array_1.mean()\n",
        "    sample_2_mean = array_2.mean()\n",
        "    sample_1_var = array_1.var()\n",
        "    sample_2_var = array_2.var()\n",
        "    mean_difference = sample_2_mean - sample_1_mean\n",
        "    std_err_difference = math.sqrt((sample_1_var/sample_1_n)+(sample_2_var/sample_2_n))\n",
        "    margin_of_error = 1.96 * std_err_difference\n",
        "    ci_lower = mean_difference - margin_of_error\n",
        "    ci_upper = mean_difference + margin_of_error\n",
        "    print('The mean difference at the 95% confidence interval is between '+str(ci_lower)+' and '+str(ci_upper)+'.')\n",
        "\n",
        "#call confidence interval function with amazon df and other platforms (not amazon) df\n",
        "get_95_ci(amazon_df['IMDb'], not_amazon_df['IMDb'])\n",
        "\n",
        "#vizualize with a boxplot\n",
        "plt.figure(figsize = (8,8))\n",
        "g = sns.boxplot(x ='Prime Video', y ='IMDb', order=[1, 0], data=svod_df_filtered)\n",
        "g.set_xlabel('Streaming Platform')\n",
        "g.set_xticks([1,0])\n",
        "g.set_xticklabels(['All Other Platforms', 'Prime Video'])\n",
        "\n"
      ],
      "execution_count": null,
      "outputs": [
        {
          "output_type": "stream",
          "text": [
            "The mean difference at the 95% confidence interval is between 6.214402883008631 and 7.397531612116566.\n"
          ],
          "name": "stdout"
        },
        {
          "output_type": "execute_result",
          "data": {
            "text/plain": [
              "[Text(0, 0, 'All Other Platforms'), Text(0, 0, 'Prime Video')]"
            ]
          },
          "metadata": {
            "tags": []
          },
          "execution_count": 24
        },
        {
          "output_type": "display_data",
          "data": {
            "image/png": "[encoded data removed]",
            "text/plain": [
              "<Figure size 576x576 with 1 Axes>"
            ]
          },
          "metadata": {
            "tags": [],
            "needs_background": "light"
          }
        }
      ]
    },
    {
      "cell_type": "markdown",
      "metadata": {
        "id": "ybERnAa3WP_0"
      },
      "source": [
        "## What does the audience prefer?\n",
        "\n"
      ]
    },
    {
      "cell_type": "markdown",
      "metadata": {
        "id": "WqtRkIYtW6Mq"
      },
      "source": [
        "We know that some platforms have more titles while other platforms have better titles (according to IMBd at least!) Now, let's look at which platform is most popular among its subscribers.\n",
        "\n",
        "In order to judge how popular a platform is, we will analyze the active usage (in the millions) of the platform instead of the amount of subscribers. This way, we don't include inactive subscribers - For example Amazon Prime members who have an account but don't use its video streaming feature."
      ]
    },
    {
      "cell_type": "code",
      "metadata": {
        "colab": {
          "base_uri": "https://localhost:8080/",
          "height": 514
        },
        "cellView": "form",
        "id": "FgmIbpgwfKOj",
        "outputId": "0271955e-bbfc-4b1f-e7b5-249922b84565"
      },
      "source": [
        "#@title Create a visualization for active users per platform\n",
        "\n",
        "plt.figure(figsize = (8,8))\n",
        "sns.barplot(x=\"Streaming Service\", y=\"Usage\", palette=\"GnBu\", data=platform_usage_df_clean.sort_values(by='Usage', ascending = False))\n"
      ],
      "execution_count": null,
      "outputs": [
        {
          "output_type": "execute_result",
          "data": {
            "text/plain": [
              "<matplotlib.axes._subplots.AxesSubplot at 0x7f4f333f01d0>"
            ]
          },
          "metadata": {
            "tags": []
          },
          "execution_count": 25
        },
        {
          "output_type": "display_data",
          "data": {
            "image/png": "[encoded data removed]",
            "text/plain": [
              "<Figure size 576x576 with 1 Axes>"
            ]
          },
          "metadata": {
            "tags": [],
            "needs_background": "light"
          }
        }
      ]
    },
    {
      "cell_type": "markdown",
      "metadata": {
        "id": "cEqJ78LqEEXJ"
      },
      "source": [
        "Could it be that Netflix has found the perfect balance between number of titles to offer and popular titles worth paying extra for? They are the oldest of the movie streaming services, and seem to have mastered the art of curating the ideal amount of quality and quantity for the consumer. \n",
        "\n",
        "One limitation of this data set is that it does not show the number of original studio productions produced by each streaming platform, which has risen in popularity in recent years - Is Robert De Niro's performance in *The Irishman* responsible for Netflix's sizable lead in viewers? Will *Baby Yoda* close that gap? Unfortunately we can't determine that from this data set!\n",
        "\n",
        "---\n",
        "\n",
        "\n",
        "\n",
        "As web based video streaming continues to mature as an industry, it will become increasingly important for streaming platforms to understand what draws viewers and how they compare to competitors from the perspective of the consumer. This data dive of four popular streaming services provides insight into those comparisons."
      ]
    }
  ]
}